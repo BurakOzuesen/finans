{
 "cells": [
  {
   "cell_type": "code",
   "execution_count": null,
   "metadata": {},
   "outputs": [],
   "source": [
    "# I Needed Money, So I Wrote An Algorithm.\n",
    "# https://medium.com/the-financial-journal/the-million-dollar-algorithm-straight-from-wall-street-3f88a62e3e0a"
   ]
  },
  {
   "cell_type": "code",
   "execution_count": null,
   "metadata": {},
   "outputs": [],
   "source": [
    "import yfinance as yf\n",
    "import pandas as pd\n",
    "import numpy as np"
   ]
  },
  {
   "cell_type": "code",
   "execution_count": 13,
   "metadata": {},
   "outputs": [],
   "source": [
    "class QuatGaloreData:\n",
    "    def __init__(self):\n",
    "        self.ticker = yf.Tickers(f'{TICKER}')\n",
    "        self.data = yf.download(tickers=(f'{TICKER}'), period='1y', interval='1d', group_by='ticker', auto_adjust=True, prepost=False)\n",
    "        self.data.drop(self.data.tail(1).index,inplace=True) # drop last n rows\n",
    "        self.df = pd.DataFrame(self.data)\n",
    "        print(self.df.tail(1))\n",
    "\n",
    "    def find_z(self):\n",
    "        mean = self.df['Close'].mean()\n",
    "        z_from_mean = (self.df['Close'].tail(1) - mean) / np.std(self.df['Close'])\n",
    "        print(f'{TICKER}', self.df['Close'].tail(1), z_from_mean)"
   ]
  },
  {
   "cell_type": "code",
   "execution_count": 15,
   "metadata": {},
   "outputs": [
    {
     "name": "stdout",
     "output_type": "stream",
     "text": [
      "[*********************100%***********************]  1 of 1 completed\n",
      "                  Open   High         Low       Close   Volume\n",
      "Date                                                          \n",
      "2022-08-09  274.200012  285.0  273.399994  284.700012  6686149\n",
      "TUPRS.IS Date\n",
      "2022-08-09    284.700012\n",
      "Name: Close, dtype: float64 Date\n",
      "2022-08-09    1.674927\n",
      "Name: Close, dtype: float64\n"
     ]
    }
   ],
   "source": [
    "TICKER = \"TUPRS.IS\"\n",
    "\n",
    "QGD = QuatGaloreData()\n",
    "QGD.find_z()"
   ]
  },
  {
   "cell_type": "code",
   "execution_count": null,
   "metadata": {},
   "outputs": [],
   "source": [
    "\"\"\"\n",
    "AKSGY.IS    3.356058\n",
    "SAFKR.IS    2.811646\n",
    "KNFRT.IS    2.789472\n",
    "ISGYO.IS    1.859944\n",
    "AYGAZ.IS    1.791232\n",
    "AKBNK.IS    1.766398\n",
    "TUPRS.IS    1.674927\n",
    "SONME.IS    0.178712\n",
    "IEYHO.IS    -0.109827\n",
    "SELVA.IS\n",
    "\"\"\""
   ]
  },
  {
   "cell_type": "code",
   "execution_count": null,
   "metadata": {},
   "outputs": [],
   "source": [
    "\"\"\"\n",
    "9       AKBNK.IS    Akbank T.A.S.\n",
    "17      AKSGY.IS    Akis Gayrimenkul Yatirim Ortakligi A.S.\n",
    "54      AYGAZ.IS    Aygaz A.S.\n",
    "206     IEYHO.IS    Isiklar Enerji ve Yapi Holding A.S.\n",
    "226     ISGYO.IS    Is Gayrimenkul Yatirim Ortakligi A.S.\n",
    "257     KNFRT.IS    Konfrut Gida Sanayi ve Ticaret A.S.\n",
    "376     SAFKR.IS    Safkar Ege Sogutmacilik Klima Soguk Hava Tesisleri Ihracat Ithalat Sanayi ve Ticaret A.S.\n",
    "389     SELVA.IS    Selva Gida Sanayi A.S.\n",
    "403     SONME.IS    Sönmez Filament Sentetik Iplik ve Elyaf Sanayi A.S.\n",
    "435     TUPRS.IS    Türkiye Petrol Rafinerileri A.S.\n",
    "\n",
    "MAKSİMUM ADET 476\n",
    "\"\"\""
   ]
  }
 ],
 "metadata": {
  "kernelspec": {
   "display_name": "Python 3.10.4 ('finance')",
   "language": "python",
   "name": "python3"
  },
  "language_info": {
   "codemirror_mode": {
    "name": "ipython",
    "version": 3
   },
   "file_extension": ".py",
   "mimetype": "text/x-python",
   "name": "python",
   "nbconvert_exporter": "python",
   "pygments_lexer": "ipython3",
   "version": "3.10.4"
  },
  "orig_nbformat": 4,
  "vscode": {
   "interpreter": {
    "hash": "435e23829a4649d757b304a69a656c6ed1a53440f1e15dcd7ef047f6cde3886f"
   }
  }
 },
 "nbformat": 4,
 "nbformat_minor": 2
}
